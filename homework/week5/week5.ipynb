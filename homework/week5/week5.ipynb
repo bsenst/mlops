{
 "cells": [
  {
   "cell_type": "code",
   "execution_count": 1,
   "metadata": {},
   "outputs": [],
   "source": [
    "import pandas as pd"
   ]
  },
  {
   "cell_type": "code",
   "execution_count": 2,
   "metadata": {},
   "outputs": [
    {
     "data": {
      "text/plain": [
       "Index(['VendorID', 'lpep_pickup_datetime', 'lpep_dropoff_datetime',\n",
       "       'store_and_fwd_flag', 'RatecodeID', 'PULocationID', 'DOLocationID',\n",
       "       'passenger_count', 'trip_distance', 'fare_amount', 'extra', 'mta_tax',\n",
       "       'tip_amount', 'tolls_amount', 'ehail_fee', 'improvement_surcharge',\n",
       "       'total_amount', 'payment_type', 'trip_type', 'congestion_surcharge'],\n",
       "      dtype='object')"
      ]
     },
     "execution_count": 2,
     "metadata": {},
     "output_type": "execute_result"
    }
   ],
   "source": [
    "df = pd.read_parquet('https://d37ci6vzurychx.cloudfront.net/trip-data/green_tripdata_2023-03.parquet')\n",
    "df.columns"
   ]
  },
  {
   "cell_type": "code",
   "execution_count": 3,
   "metadata": {},
   "outputs": [
    {
     "data": {
      "text/plain": [
       "((72044, 20), 72044)"
      ]
     },
     "execution_count": 3,
     "metadata": {},
     "output_type": "execute_result"
    }
   ],
   "source": [
    "# Q1. Prepare the dataset\n",
    "# What is the shape of the downloaded data? How many rows are there?\n",
    "df.shape, len(df)"
   ]
  },
  {
   "cell_type": "code",
   "execution_count": 4,
   "metadata": {},
   "outputs": [
    {
     "name": "stdout",
     "output_type": "stream",
     "text": [
      "ColumnDriftMetric\n",
      "DatasetDriftMetric\n",
      "DatasetMissingValuesMetric\n",
      "ColumnQuantileMetric\n",
      "RegressionQualityMetric\n"
     ]
    }
   ],
   "source": [
    "# Q2. Metric\n",
    "# What metric did you choose?\n",
    "for metric in pd.read_json(\"report.json\")[\"metrics\"]:\n",
    "    print(metric[\"metric\"])"
   ]
  },
  {
   "cell_type": "code",
   "execution_count": 5,
   "metadata": {},
   "outputs": [
    {
     "data": {
      "text/plain": [
       "0    {'metric': 'ColumnDriftMetric', 'result': {'co...\n",
       "1    {'metric': 'DatasetDriftMetric', 'result': {'d...\n",
       "2    {'metric': 'DatasetMissingValuesMetric', 'resu...\n",
       "3    {'metric': 'ColumnQuantileMetric', 'result': {...\n",
       "4    {'metric': 'RegressionQualityMetric', 'result'...\n",
       "Name: metrics, dtype: object"
      ]
     },
     "execution_count": 5,
     "metadata": {},
     "output_type": "execute_result"
    }
   ],
   "source": [
    "# Q4. Monitoring\n",
    "# What is the maximum value of metric quantile = 0.5 on th \"fare_amount\" column during March 2023 (calculated daily)?\n",
    "report = pd.read_json(\"report.json\")\n",
    "report[\"metrics\"]"
   ]
  },
  {
   "cell_type": "code",
   "execution_count": null,
   "metadata": {},
   "outputs": [],
   "source": []
  }
 ],
 "metadata": {
  "kernelspec": {
   "display_name": "Python 3",
   "language": "python",
   "name": "python3"
  },
  "language_info": {
   "codemirror_mode": {
    "name": "ipython",
    "version": 3
   },
   "file_extension": ".py",
   "mimetype": "text/x-python",
   "name": "python",
   "nbconvert_exporter": "python",
   "pygments_lexer": "ipython3",
   "version": "3.10.4"
  },
  "orig_nbformat": 4
 },
 "nbformat": 4,
 "nbformat_minor": 2
}
