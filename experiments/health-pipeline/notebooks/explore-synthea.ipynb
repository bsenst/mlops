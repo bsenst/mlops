{
 "cells": [
  {
   "cell_type": "code",
   "execution_count": 2,
   "metadata": {},
   "outputs": [],
   "source": [
    "import os\n",
    "import pandas as pd"
   ]
  },
  {
   "cell_type": "markdown",
   "metadata": {},
   "source": [
    "# Observations"
   ]
  },
  {
   "cell_type": "code",
   "execution_count": 26,
   "metadata": {},
   "outputs": [
    {
     "data": {
      "text/plain": [
       "CATEGORY\n",
       "survey            369\n",
       "laboratory        166\n",
       "vital-signs       130\n",
       "social-history     16\n",
       "procedure           8\n",
       "exam                1\n",
       "Name: count, dtype: int64"
      ]
     },
     "execution_count": 26,
     "metadata": {},
     "output_type": "execute_result"
    }
   ],
   "source": [
    "observations = pd.read_csv(\"../../../../synthea/output/csv/observations.csv\")\n",
    "observations.CATEGORY.value_counts()"
   ]
  },
  {
   "cell_type": "code",
   "execution_count": 30,
   "metadata": {},
   "outputs": [
    {
     "data": {
      "text/plain": [
       "2"
      ]
     },
     "execution_count": 30,
     "metadata": {},
     "output_type": "execute_result"
    }
   ],
   "source": [
    "observations.PATIENT.nunique()"
   ]
  },
  {
   "cell_type": "code",
   "execution_count": 47,
   "metadata": {},
   "outputs": [
    {
     "data": {
      "text/plain": [
       "array(['Body Height',\n",
       "       'Pain severity - 0-10 verbal numeric rating [Score] - Reported',\n",
       "       'Body Weight', 'Body mass index (BMI) [Ratio]',\n",
       "       'Diastolic Blood Pressure', 'Systolic Blood Pressure',\n",
       "       'Heart rate', 'Respiratory rate', 'Body temperature'], dtype=object)"
      ]
     },
     "execution_count": 47,
     "metadata": {},
     "output_type": "execute_result"
    }
   ],
   "source": [
    "observations[observations.CATEGORY==\"vital-signs\"].groupby(\"PATIENT\").DESCRIPTION.unique()[0]"
   ]
  },
  {
   "cell_type": "code",
   "execution_count": 51,
   "metadata": {},
   "outputs": [
    {
     "data": {
      "text/plain": [
       "array(['Address', 'Cholesterol [Mass/volume] in Serum or Plasma',\n",
       "       'Triglycerides', 'Low Density Lipoprotein Cholesterol',\n",
       "       'Cholesterol in HDL [Mass/volume] in Serum or Plasma',\n",
       "       'Leukocytes [#/volume] in Blood by Automated count',\n",
       "       'Erythrocytes [#/volume] in Blood by Automated count',\n",
       "       'Hemoglobin [Mass/volume] in Blood',\n",
       "       'Hematocrit [Volume Fraction] of Blood by Automated count',\n",
       "       'MCV [Entitic volume] by Automated count',\n",
       "       'MCH [Entitic mass] by Automated count',\n",
       "       'MCHC [Mass/volume] by Automated count',\n",
       "       'Erythrocyte distribution width [Entitic volume] by Automated count',\n",
       "       'Platelets [#/volume] in Blood by Automated count',\n",
       "       'Platelet distribution width [Entitic volume] in Blood by Automated count',\n",
       "       'Platelet mean volume [Entitic volume] in Blood by Automated count'],\n",
       "      dtype=object)"
      ]
     },
     "execution_count": 51,
     "metadata": {},
     "output_type": "execute_result"
    }
   ],
   "source": [
    "observations[observations.CATEGORY==\"laboratory\"].groupby(\"PATIENT\").DESCRIPTION.unique()[0]"
   ]
  }
 ],
 "metadata": {
  "kernelspec": {
   "display_name": ".venv",
   "language": "python",
   "name": "python3"
  },
  "language_info": {
   "codemirror_mode": {
    "name": "ipython",
    "version": 3
   },
   "file_extension": ".py",
   "mimetype": "text/x-python",
   "name": "python",
   "nbconvert_exporter": "python",
   "pygments_lexer": "ipython3",
   "version": "3.10.4"
  },
  "orig_nbformat": 4
 },
 "nbformat": 4,
 "nbformat_minor": 2
}
