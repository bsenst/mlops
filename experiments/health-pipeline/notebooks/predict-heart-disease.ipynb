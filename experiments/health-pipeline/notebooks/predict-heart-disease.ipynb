{
 "cells": [
  {
   "cell_type": "code",
   "execution_count": 124,
   "metadata": {},
   "outputs": [],
   "source": [
    "import pickle\n",
    "import numpy as np\n",
    "import pandas as pd\n",
    "from datetime import date\n",
    "from sklearn.linear_model import LogisticRegression"
   ]
  },
  {
   "cell_type": "code",
   "execution_count": 99,
   "metadata": {},
   "outputs": [],
   "source": [
    "import warnings\n",
    "warnings.filterwarnings('ignore')"
   ]
  },
  {
   "cell_type": "code",
   "execution_count": 4,
   "metadata": {},
   "outputs": [],
   "source": [
    "heart_disease_logreg_model = pickle.load(open(\"heart-disease-logreg-model.pkl\", 'rb'))"
   ]
  },
  {
   "cell_type": "code",
   "execution_count": 15,
   "metadata": {},
   "outputs": [],
   "source": [
    "# https://stackoverflow.com/questions/2217488/age-from-birthdate-in-python\n",
    "\n",
    "def calculate_age(born):\n",
    "    today = date.today()\n",
    "    return today.year - born.year - ((today.month, today.day) < (born.month, born.day))"
   ]
  },
  {
   "cell_type": "code",
   "execution_count": 120,
   "metadata": {},
   "outputs": [],
   "source": [
    "patients = pd.read_csv(\"../../../../synthea/output/csv/patients.csv\")\n",
    "patients = patients[[\"Id\", \"BIRTHDATE\", \"GENDER\"]]\n",
    "patients[\"AGE\"] = patients.BIRTHDATE.apply(pd.to_datetime).apply(calculate_age)\n",
    "patients = patients[[\"Id\", \"AGE\", \"GENDER\"]]\n",
    "patients[\"GENDER\"] = patients.GENDER.map(lambda x: 1 if x==\"M\" else 0)\n",
    "patients.rename(columns={\"Id\": \"PATIENT\"}, inplace=True)"
   ]
  },
  {
   "cell_type": "code",
   "execution_count": 98,
   "metadata": {},
   "outputs": [],
   "source": [
    "# observations[observations.DESCRIPTION.isin([\n",
    "#     \"Systolic Blood Pressure\", 'Glucose [Mass/volume] in Blood', 'Cholesterol [Mass/volume] in Serum or Plasma'\n",
    "#     ])][[\"PATIENT\", \"DESCRIPTION\", \"VALUE\"]]"
   ]
  },
  {
   "cell_type": "code",
   "execution_count": 102,
   "metadata": {},
   "outputs": [],
   "source": [
    "sbp = observations[observations.DESCRIPTION==\"Systolic Blood Pressure\"]\n",
    "sbp = sbp[[\"PATIENT\", \"VALUE\"]]\n",
    "sbp.rename(columns={\"VALUE\": \"SBP\"}, inplace=True)\n",
    "sbp[\"SBP\"] = sbp[\"SBP\"].astype(float)\n",
    "sbp = sbp.groupby(\"PATIENT\")[\"SBP\"].apply(max).apply(int)"
   ]
  },
  {
   "cell_type": "code",
   "execution_count": 114,
   "metadata": {},
   "outputs": [],
   "source": [
    "glc = observations[observations.DESCRIPTION=='Glucose [Mass/volume] in Blood']\n",
    "glc[\"VALUE\"] = (glc.VALUE.astype(float)>120).map(lambda x: 1 if x else 0)\n",
    "glc = glc[[\"PATIENT\", \"VALUE\"]]\n",
    "glc.rename(columns={\"VALUE\": \"GLCgt120\"}, inplace=True)\n",
    "glc = glc.groupby(\"PATIENT\")[\"GLCgt120\"].apply(max)"
   ]
  },
  {
   "cell_type": "code",
   "execution_count": 101,
   "metadata": {},
   "outputs": [],
   "source": [
    "chol = observations[observations.DESCRIPTION=='Cholesterol [Mass/volume] in Serum or Plasma']\n",
    "chol[\"VALUE\"] = chol.VALUE.astype(float)\n",
    "chol.rename(columns={\"VALUE\": \"CHOL\"}, inplace=True)\n",
    "chol = chol.groupby(\"PATIENT\")[\"CHOL\"].apply(max).map(lambda x: int(round(x, 0)))"
   ]
  },
  {
   "cell_type": "code",
   "execution_count": 127,
   "metadata": {},
   "outputs": [
    {
     "data": {
      "text/plain": [
       "array(['0.0'], dtype=object)"
      ]
     },
     "execution_count": 127,
     "metadata": {},
     "output_type": "execute_result"
    }
   ],
   "source": [
    "# \"age\", \"sex\", \"trestbps\", \"chol\", \"fbs\"\n",
    "# predict vom synthea data\n",
    "X = pd.merge(patients, pd.merge(pd.merge(sbp, chol, on=\"PATIENT\"), glc, on=\"PATIENT\"), on=\"PATIENT\").drop([\"PATIENT\"], axis=1).values\n",
    "heart_disease_logreg_model.predict(X)"
   ]
  },
  {
   "cell_type": "code",
   "execution_count": 154,
   "metadata": {},
   "outputs": [
    {
     "data": {
      "text/plain": [
       "array(['1.0'], dtype=object)"
      ]
     },
     "execution_count": 154,
     "metadata": {},
     "output_type": "execute_result"
    }
   ],
   "source": [
    "# hypothetic patient data to predict coronary artery disease with one affected vessel\n",
    "# surprising predicting behavior of the model - reevaluate training data\n",
    "heart_disease_logreg_model.predict([[50, 0, 75, 200, 0]])"
   ]
  }
 ],
 "metadata": {
  "kernelspec": {
   "display_name": ".venv",
   "language": "python",
   "name": "python3"
  },
  "language_info": {
   "codemirror_mode": {
    "name": "ipython",
    "version": 3
   },
   "file_extension": ".py",
   "mimetype": "text/x-python",
   "name": "python",
   "nbconvert_exporter": "python",
   "pygments_lexer": "ipython3",
   "version": "3.10.4"
  },
  "orig_nbformat": 4
 },
 "nbformat": 4,
 "nbformat_minor": 2
}
