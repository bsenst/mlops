{
 "cells": [
  {
   "cell_type": "code",
   "execution_count": 1,
   "metadata": {},
   "outputs": [
    {
     "name": "stdout",
     "output_type": "stream",
     "text": [
      "Requirement already satisfied: mlflow in /usr/local/python/3.10.4/lib/python3.10/site-packages (2.3.2)\n",
      "Requirement already satisfied: click<9,>=7.0 in /usr/local/python/3.10.4/lib/python3.10/site-packages (from mlflow) (8.1.3)\n",
      "Requirement already satisfied: cloudpickle<3 in /usr/local/python/3.10.4/lib/python3.10/site-packages (from mlflow) (2.2.1)\n",
      "Requirement already satisfied: databricks-cli<1,>=0.8.7 in /usr/local/python/3.10.4/lib/python3.10/site-packages (from mlflow) (0.17.7)\n",
      "Requirement already satisfied: entrypoints<1 in /usr/local/python/3.10.4/lib/python3.10/site-packages (from mlflow) (0.4)\n",
      "Requirement already satisfied: gitpython<4,>=2.1.0 in /home/codespace/.local/lib/python3.10/site-packages (from mlflow) (3.1.31)\n",
      "Requirement already satisfied: pyyaml<7,>=5.1 in /usr/local/python/3.10.4/lib/python3.10/site-packages (from mlflow) (5.4.1)\n",
      "Requirement already satisfied: protobuf<5,>=3.12.0 in /usr/local/python/3.10.4/lib/python3.10/site-packages (from mlflow) (4.23.1)\n",
      "Requirement already satisfied: pytz<2024 in /home/codespace/.local/lib/python3.10/site-packages (from mlflow) (2023.3)\n",
      "Requirement already satisfied: requests<3,>=2.17.3 in /home/codespace/.local/lib/python3.10/site-packages (from mlflow) (2.28.2)\n",
      "Requirement already satisfied: packaging<24 in /home/codespace/.local/lib/python3.10/site-packages (from mlflow) (23.1)\n",
      "Requirement already satisfied: importlib-metadata!=4.7.0,<7,>=3.7.0 in /usr/local/python/3.10.4/lib/python3.10/site-packages (from mlflow) (6.6.0)\n",
      "Requirement already satisfied: sqlparse<1,>=0.4.0 in /usr/local/python/3.10.4/lib/python3.10/site-packages (from mlflow) (0.4.4)\n",
      "Requirement already satisfied: alembic!=1.10.0,<2 in /usr/local/python/3.10.4/lib/python3.10/site-packages (from mlflow) (1.8.1)\n",
      "Requirement already satisfied: docker<7,>=4.0.0 in /usr/local/python/3.10.4/lib/python3.10/site-packages (from mlflow) (6.0.1)\n",
      "Requirement already satisfied: Flask<3 in /usr/local/python/3.10.4/lib/python3.10/site-packages (from mlflow) (2.3.2)\n",
      "Requirement already satisfied: numpy<2 in /home/codespace/.local/lib/python3.10/site-packages (from mlflow) (1.24.3)\n",
      "Requirement already satisfied: scipy<2 in /home/codespace/.local/lib/python3.10/site-packages (from mlflow) (1.10.1)\n",
      "Requirement already satisfied: pandas<3 in /home/codespace/.local/lib/python3.10/site-packages (from mlflow) (2.0.1)\n",
      "Requirement already satisfied: querystring-parser<2 in /usr/local/python/3.10.4/lib/python3.10/site-packages (from mlflow) (1.2.4)\n",
      "Requirement already satisfied: sqlalchemy<3,>=1.4.0 in /usr/local/python/3.10.4/lib/python3.10/site-packages (from mlflow) (1.4.41)\n",
      "Requirement already satisfied: scikit-learn<2 in /home/codespace/.local/lib/python3.10/site-packages (from mlflow) (1.2.2)\n",
      "Requirement already satisfied: pyarrow<12,>=4.0.0 in /usr/local/python/3.10.4/lib/python3.10/site-packages (from mlflow) (11.0.0)\n",
      "Requirement already satisfied: markdown<4,>=3.3 in /usr/local/python/3.10.4/lib/python3.10/site-packages (from mlflow) (3.4.3)\n",
      "Requirement already satisfied: matplotlib<4 in /home/codespace/.local/lib/python3.10/site-packages (from mlflow) (3.7.1)\n",
      "Requirement already satisfied: gunicorn<21 in /usr/local/python/3.10.4/lib/python3.10/site-packages (from mlflow) (20.1.0)\n",
      "Requirement already satisfied: Jinja2<4,>=2.11 in /home/codespace/.local/lib/python3.10/site-packages (from mlflow) (3.1.2)\n",
      "Requirement already satisfied: Mako in /usr/local/python/3.10.4/lib/python3.10/site-packages (from alembic!=1.10.0,<2->mlflow) (1.2.4)\n",
      "Requirement already satisfied: pyjwt>=1.7.0 in /usr/local/python/3.10.4/lib/python3.10/site-packages (from databricks-cli<1,>=0.8.7->mlflow) (2.7.0)\n",
      "Requirement already satisfied: oauthlib>=3.1.0 in /usr/local/python/3.10.4/lib/python3.10/site-packages (from databricks-cli<1,>=0.8.7->mlflow) (3.2.2)\n",
      "Requirement already satisfied: tabulate>=0.7.7 in /usr/local/python/3.10.4/lib/python3.10/site-packages (from databricks-cli<1,>=0.8.7->mlflow) (0.9.0)\n",
      "Requirement already satisfied: six>=1.10.0 in /home/codespace/.local/lib/python3.10/site-packages (from databricks-cli<1,>=0.8.7->mlflow) (1.16.0)\n",
      "Requirement already satisfied: urllib3<2.0.0,>=1.26.7 in /home/codespace/.local/lib/python3.10/site-packages (from databricks-cli<1,>=0.8.7->mlflow) (1.26.15)\n",
      "Requirement already satisfied: websocket-client>=0.32.0 in /home/codespace/.local/lib/python3.10/site-packages (from docker<7,>=4.0.0->mlflow) (1.5.1)\n",
      "Requirement already satisfied: Werkzeug>=2.3.3 in /usr/local/python/3.10.4/lib/python3.10/site-packages (from Flask<3->mlflow) (2.3.4)\n",
      "Requirement already satisfied: itsdangerous>=2.1.2 in /usr/local/python/3.10.4/lib/python3.10/site-packages (from Flask<3->mlflow) (2.1.2)\n",
      "Requirement already satisfied: blinker>=1.6.2 in /usr/local/python/3.10.4/lib/python3.10/site-packages (from Flask<3->mlflow) (1.6.2)\n",
      "Requirement already satisfied: gitdb<5,>=4.0.1 in /home/codespace/.local/lib/python3.10/site-packages (from gitpython<4,>=2.1.0->mlflow) (4.0.10)\n",
      "Requirement already satisfied: setuptools>=3.0 in /home/codespace/.local/lib/python3.10/site-packages (from gunicorn<21->mlflow) (67.7.2)\n",
      "Requirement already satisfied: zipp>=0.5 in /usr/local/python/3.10.4/lib/python3.10/site-packages (from importlib-metadata!=4.7.0,<7,>=3.7.0->mlflow) (3.15.0)\n",
      "Requirement already satisfied: MarkupSafe>=2.0 in /home/codespace/.local/lib/python3.10/site-packages (from Jinja2<4,>=2.11->mlflow) (2.1.2)\n",
      "Requirement already satisfied: contourpy>=1.0.1 in /home/codespace/.local/lib/python3.10/site-packages (from matplotlib<4->mlflow) (1.0.7)\n",
      "Requirement already satisfied: cycler>=0.10 in /home/codespace/.local/lib/python3.10/site-packages (from matplotlib<4->mlflow) (0.11.0)\n",
      "Requirement already satisfied: fonttools>=4.22.0 in /home/codespace/.local/lib/python3.10/site-packages (from matplotlib<4->mlflow) (4.39.3)\n",
      "Requirement already satisfied: kiwisolver>=1.0.1 in /home/codespace/.local/lib/python3.10/site-packages (from matplotlib<4->mlflow) (1.4.4)\n",
      "Requirement already satisfied: pillow>=6.2.0 in /home/codespace/.local/lib/python3.10/site-packages (from matplotlib<4->mlflow) (9.5.0)\n",
      "Requirement already satisfied: pyparsing>=2.3.1 in /usr/local/python/3.10.4/lib/python3.10/site-packages (from matplotlib<4->mlflow) (2.4.7)\n",
      "Requirement already satisfied: python-dateutil>=2.7 in /home/codespace/.local/lib/python3.10/site-packages (from matplotlib<4->mlflow) (2.8.2)\n",
      "Requirement already satisfied: tzdata>=2022.1 in /home/codespace/.local/lib/python3.10/site-packages (from pandas<3->mlflow) (2023.3)\n",
      "Requirement already satisfied: charset-normalizer<4,>=2 in /home/codespace/.local/lib/python3.10/site-packages (from requests<3,>=2.17.3->mlflow) (3.1.0)\n",
      "Requirement already satisfied: idna<4,>=2.5 in /home/codespace/.local/lib/python3.10/site-packages (from requests<3,>=2.17.3->mlflow) (3.4)\n",
      "Requirement already satisfied: certifi>=2017.4.17 in /home/codespace/.local/lib/python3.10/site-packages (from requests<3,>=2.17.3->mlflow) (2022.12.7)\n",
      "Requirement already satisfied: joblib>=1.1.1 in /home/codespace/.local/lib/python3.10/site-packages (from scikit-learn<2->mlflow) (1.2.0)\n",
      "Requirement already satisfied: threadpoolctl>=2.0.0 in /home/codespace/.local/lib/python3.10/site-packages (from scikit-learn<2->mlflow) (3.1.0)\n",
      "Requirement already satisfied: greenlet!=0.4.17 in /usr/local/python/3.10.4/lib/python3.10/site-packages (from sqlalchemy<3,>=1.4.0->mlflow) (2.0.2)\n",
      "Requirement already satisfied: smmap<6,>=3.0.1 in /home/codespace/.local/lib/python3.10/site-packages (from gitdb<5,>=4.0.1->gitpython<4,>=2.1.0->mlflow) (5.0.0)\n",
      "\n",
      "\u001b[1m[\u001b[0m\u001b[34;49mnotice\u001b[0m\u001b[1;39;49m]\u001b[0m\u001b[39;49m A new release of pip is available: \u001b[0m\u001b[31;49m23.1.1\u001b[0m\u001b[39;49m -> \u001b[0m\u001b[32;49m23.1.2\u001b[0m\n",
      "\u001b[1m[\u001b[0m\u001b[34;49mnotice\u001b[0m\u001b[1;39;49m]\u001b[0m\u001b[39;49m To update, run: \u001b[0m\u001b[32;49mpython -m pip install --upgrade pip\u001b[0m\n"
     ]
    }
   ],
   "source": [
    "! pip install mlflow"
   ]
  },
  {
   "cell_type": "code",
   "execution_count": 5,
   "metadata": {},
   "outputs": [
    {
     "name": "stderr",
     "output_type": "stream",
     "text": [
      "2023/05/26 14:09:17 INFO mlflow.tracking.fluent: Autologging successfully enabled for sklearn.\n",
      "2023/05/26 14:09:17 INFO mlflow.utils.autologging_utils: Created MLflow autologging run with ID '367bdc3bdb084f3882bb8455300f8311', which will track hyperparameters, performance metrics, model artifacts, and lineage information for the current sklearn workflow\n"
     ]
    }
   ],
   "source": [
    "# https://mlflow.org/docs/latest/quickstart.html#add-mlflow-tracking-to-your-code\n",
    "import mlflow\n",
    "\n",
    "from sklearn.model_selection import train_test_split\n",
    "from sklearn.datasets import load_diabetes\n",
    "from sklearn.ensemble import RandomForestRegressor\n",
    "\n",
    "mlflow.autolog()\n",
    "\n",
    "db = load_diabetes()\n",
    "X_train, X_test, y_train, y_test = train_test_split(db.data, db.target)\n",
    "\n",
    "# Create and train models.\n",
    "rf = RandomForestRegressor(n_estimators=100, max_depth=6, max_features=3)\n",
    "rf.fit(X_train, y_train)\n",
    "\n",
    "# Use the model to make predictions on the test dataset.\n",
    "predictions = rf.predict(X_test)"
   ]
  },
  {
   "cell_type": "code",
   "execution_count": 4,
   "metadata": {},
   "outputs": [],
   "source": [
    "# https://mlflow.org/docs/latest/quickstart.html#share-mlflow-runs-and-experiments\n",
    "mlflow.set_tracking_uri(\"http://127.0.0.1:5000\")"
   ]
  },
  {
   "cell_type": "code",
   "execution_count": 6,
   "metadata": {},
   "outputs": [
    {
     "name": "stdout",
     "output_type": "stream",
     "text": [
      "[220.75432748  94.53646858 187.62185108  84.40438255 173.30218595\n",
      "  85.81709445 122.97324007 141.73565693 180.81604943 101.62308677\n",
      " 205.37938794 162.54930753 169.2106907  113.78061303  81.50127851\n",
      " 167.67660817 112.77728955 245.90775668 123.04745213 156.92599577\n",
      " 237.50174057  99.74039187 126.85755812 201.04494752 116.62005182\n",
      " 110.39821627 131.16306819 148.93961874 224.07191909 209.41642649\n",
      " 201.00848843 161.21482751 210.57630734 148.21920065 195.40926603\n",
      " 170.17657901 174.26945989 106.95765467  81.76520627 194.76632501\n",
      "  90.07734912 151.44711626 190.44228414 222.67606185  83.54553147\n",
      "  85.7128877  154.99050313 153.1728239  174.73155637 120.15829311\n",
      " 160.30756131  83.21648459 111.78469346 223.09500161  92.53178733\n",
      " 148.4146893  163.02522165 191.99386224 162.2150359  256.42070892\n",
      " 212.47842577 157.95831906 204.46741763 172.83672003 154.66522775\n",
      " 233.41652848  90.55651888 209.52677875 252.32150311 153.15439878\n",
      " 160.56605849 223.08404472 184.306948   172.00129798 124.47661697\n",
      " 101.5023946  150.79539468  96.7308487  161.18002806  87.4429417\n",
      " 106.05557129 125.57568922 171.11008485 153.12174562 131.99354535\n",
      " 169.02258866 149.47717101  97.01702361 216.73657436 142.65617799\n",
      " 211.26486974 138.74987617  90.28687687  95.06217829 210.67152962\n",
      "  89.91651623  99.08901973 127.21670611 148.0491333  110.15090483\n",
      " 111.72538497 178.17523981  88.88502157  93.25215197 169.6076479\n",
      " 254.18036674 145.01054581 147.87622299 123.89320199 118.8943788\n",
      "  86.90318818]\n",
      "Run ID: 1d3557419f5b4ffaaad5c9aae07553fd\n"
     ]
    }
   ],
   "source": [
    "# https://mlflow.org/docs/latest/quickstart.html#store-a-model-in-mlflow\n",
    "import mlflow\n",
    "from mlflow.models.signature import infer_signature\n",
    "\n",
    "from sklearn.model_selection import train_test_split\n",
    "from sklearn.datasets import load_diabetes\n",
    "from sklearn.ensemble import RandomForestRegressor\n",
    "\n",
    "with mlflow.start_run() as run:\n",
    "    # Load the diabetes dataset.\n",
    "    db = load_diabetes()\n",
    "    X_train, X_test, y_train, y_test = train_test_split(db.data, db.target)\n",
    "\n",
    "    # Create and train models.\n",
    "    rf = RandomForestRegressor(n_estimators=100, max_depth=6, max_features=3)\n",
    "    rf.fit(X_train, y_train)\n",
    "\n",
    "    # Use the model to make predictions on the test dataset.\n",
    "    predictions = rf.predict(X_test)\n",
    "    print(predictions)\n",
    "\n",
    "    signature = infer_signature(X_test, predictions)\n",
    "    mlflow.sklearn.log_model(rf, \"model\", signature=signature)\n",
    "\n",
    "    print(\"Run ID: {}\".format(run.info.run_id))"
   ]
  },
  {
   "cell_type": "code",
   "execution_count": 9,
   "metadata": {},
   "outputs": [
    {
     "name": "stdout",
     "output_type": "stream",
     "text": [
      "[ 79.9824835  273.68559405 218.17946477 161.77718881  99.67276015\n",
      "  95.2813745  153.15439878  95.24726322 156.92599577 203.98896016\n",
      " 153.00036521 157.95831906 167.00903539 114.21357134 134.1743173\n",
      " 229.60989257 104.03957117 154.66522775 173.61079673  80.5290084\n",
      " 252.98372564 267.74923153 110.126686   126.85755812  83.54553147\n",
      " 233.41652848 170.17657901 175.15655413 178.2949863   85.18875797\n",
      " 211.25117546 172.73648756 232.77509443  91.31195221 116.52848093\n",
      " 117.51095705 140.20115235  91.37364589 168.49807204 125.57568922\n",
      " 115.58138075  89.9136075   81.10520205 111.78469346 244.54566902\n",
      " 204.677042   160.56605849 201.93299253 191.68964944 194.76632501\n",
      " 172.83672003 109.1235845  197.15316137 162.69667357 161.44653301\n",
      " 165.70796235 157.42680882 133.46709191 174.26945989 195.89005304\n",
      " 176.26162579  96.12707722 149.59045644 112.77728955 119.67431652\n",
      "  83.41519866 181.43128264 108.90949253  96.33111829 188.78162603\n",
      " 233.06602837 181.89192825 119.17304632 208.83991771 109.91607767\n",
      "  85.81709445 208.90472734 164.95956677 221.41069677 110.88983343\n",
      " 144.55575932 117.63839148 101.32508705 144.0947888  176.3065547\n",
      " 195.28543889 234.41572522 109.09031088 269.52728658 106.05557129\n",
      "  90.83348456 210.57630734 120.15829311 100.49575242 161.66653057\n",
      " 132.22980437 103.83106396  89.91651623 101.4394408   94.7781632\n",
      "  72.38947085 174.31232555 208.02750988 151.44711626 116.15700303\n",
      " 116.73495365 209.41642649 149.66253127 237.10631835  90.55651888\n",
      " 150.79539468]\n"
     ]
    }
   ],
   "source": [
    "# https://mlflow.org/docs/latest/quickstart.html#load-a-model-from-a-specific-training-run-for-inference\n",
    "import mlflow\n",
    "\n",
    "from sklearn.model_selection import train_test_split\n",
    "from sklearn.datasets import load_diabetes\n",
    "\n",
    "db = load_diabetes()\n",
    "X_train, X_test, y_train, y_test = train_test_split(db.data, db.target)\n",
    "\n",
    "model = mlflow.sklearn.load_model(\"mlflow-artifacts:/0/1d3557419f5b4ffaaad5c9aae07553fd/artifacts/model\")\n",
    "predictions = model.predict(X_test)\n",
    "print(predictions)"
   ]
  }
 ],
 "metadata": {
  "kernelspec": {
   "display_name": "Python 3",
   "language": "python",
   "name": "python3"
  },
  "language_info": {
   "codemirror_mode": {
    "name": "ipython",
    "version": 3
   },
   "file_extension": ".py",
   "mimetype": "text/x-python",
   "name": "python",
   "nbconvert_exporter": "python",
   "pygments_lexer": "ipython3",
   "version": "3.10.4"
  },
  "orig_nbformat": 4
 },
 "nbformat": 4,
 "nbformat_minor": 2
}
